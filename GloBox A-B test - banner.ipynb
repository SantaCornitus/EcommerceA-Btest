{
 "cells": [
  {
   "cell_type": "code",
   "execution_count": 41,
   "id": "f9827b03",
   "metadata": {},
   "outputs": [],
   "source": [
    "import pandas as pd\n",
    "import numpy as np\n",
    "import matplotlib.pyplot as plt\n",
    "import scipy.stats as st\n"
   ]
  },
  {
   "cell_type": "code",
   "execution_count": 3,
   "id": "a91751fa",
   "metadata": {},
   "outputs": [],
   "source": [
    "df = pd.read_csv(\"query_results-2023-09-16_110410.csv\")"
   ]
  },
  {
   "cell_type": "code",
   "execution_count": 4,
   "id": "ec1e3b14",
   "metadata": {},
   "outputs": [
    {
     "data": {
      "text/html": [
       "<div>\n",
       "<style scoped>\n",
       "    .dataframe tbody tr th:only-of-type {\n",
       "        vertical-align: middle;\n",
       "    }\n",
       "\n",
       "    .dataframe tbody tr th {\n",
       "        vertical-align: top;\n",
       "    }\n",
       "\n",
       "    .dataframe thead th {\n",
       "        text-align: right;\n",
       "    }\n",
       "</style>\n",
       "<table border=\"1\" class=\"dataframe\">\n",
       "  <thead>\n",
       "    <tr style=\"text-align: right;\">\n",
       "      <th></th>\n",
       "      <th>uid</th>\n",
       "      <th>country</th>\n",
       "      <th>gender</th>\n",
       "      <th>device</th>\n",
       "      <th>group</th>\n",
       "      <th>converted</th>\n",
       "      <th>total_spent</th>\n",
       "    </tr>\n",
       "  </thead>\n",
       "  <tbody>\n",
       "    <tr>\n",
       "      <th>0</th>\n",
       "      <td>1019161</td>\n",
       "      <td>FRA</td>\n",
       "      <td>NaN</td>\n",
       "      <td>I</td>\n",
       "      <td>A</td>\n",
       "      <td>N</td>\n",
       "      <td>NaN</td>\n",
       "    </tr>\n",
       "    <tr>\n",
       "      <th>1</th>\n",
       "      <td>1046160</td>\n",
       "      <td>TUR</td>\n",
       "      <td>F</td>\n",
       "      <td>I</td>\n",
       "      <td>B</td>\n",
       "      <td>Y</td>\n",
       "      <td>121.413014</td>\n",
       "    </tr>\n",
       "    <tr>\n",
       "      <th>2</th>\n",
       "      <td>1038783</td>\n",
       "      <td>USA</td>\n",
       "      <td>M</td>\n",
       "      <td>I</td>\n",
       "      <td>B</td>\n",
       "      <td>N</td>\n",
       "      <td>NaN</td>\n",
       "    </tr>\n",
       "    <tr>\n",
       "      <th>3</th>\n",
       "      <td>1033108</td>\n",
       "      <td>USA</td>\n",
       "      <td>O</td>\n",
       "      <td>A</td>\n",
       "      <td>A</td>\n",
       "      <td>N</td>\n",
       "      <td>NaN</td>\n",
       "    </tr>\n",
       "    <tr>\n",
       "      <th>4</th>\n",
       "      <td>1032850</td>\n",
       "      <td>BRA</td>\n",
       "      <td>M</td>\n",
       "      <td>A</td>\n",
       "      <td>B</td>\n",
       "      <td>N</td>\n",
       "      <td>NaN</td>\n",
       "    </tr>\n",
       "    <tr>\n",
       "      <th>...</th>\n",
       "      <td>...</td>\n",
       "      <td>...</td>\n",
       "      <td>...</td>\n",
       "      <td>...</td>\n",
       "      <td>...</td>\n",
       "      <td>...</td>\n",
       "      <td>...</td>\n",
       "    </tr>\n",
       "    <tr>\n",
       "      <th>48938</th>\n",
       "      <td>1017464</td>\n",
       "      <td>TUR</td>\n",
       "      <td>F</td>\n",
       "      <td>I</td>\n",
       "      <td>B</td>\n",
       "      <td>N</td>\n",
       "      <td>NaN</td>\n",
       "    </tr>\n",
       "    <tr>\n",
       "      <th>48939</th>\n",
       "      <td>1014355</td>\n",
       "      <td>CAN</td>\n",
       "      <td>NaN</td>\n",
       "      <td>I</td>\n",
       "      <td>A</td>\n",
       "      <td>N</td>\n",
       "      <td>NaN</td>\n",
       "    </tr>\n",
       "    <tr>\n",
       "      <th>48940</th>\n",
       "      <td>1030558</td>\n",
       "      <td>CAN</td>\n",
       "      <td>F</td>\n",
       "      <td>I</td>\n",
       "      <td>B</td>\n",
       "      <td>N</td>\n",
       "      <td>NaN</td>\n",
       "    </tr>\n",
       "    <tr>\n",
       "      <th>48941</th>\n",
       "      <td>1009340</td>\n",
       "      <td>BRA</td>\n",
       "      <td>F</td>\n",
       "      <td>I</td>\n",
       "      <td>A</td>\n",
       "      <td>N</td>\n",
       "      <td>NaN</td>\n",
       "    </tr>\n",
       "    <tr>\n",
       "      <th>48942</th>\n",
       "      <td>1037467</td>\n",
       "      <td>USA</td>\n",
       "      <td>M</td>\n",
       "      <td>I</td>\n",
       "      <td>B</td>\n",
       "      <td>N</td>\n",
       "      <td>NaN</td>\n",
       "    </tr>\n",
       "  </tbody>\n",
       "</table>\n",
       "<p>48943 rows × 7 columns</p>\n",
       "</div>"
      ],
      "text/plain": [
       "           uid country gender device group converted  total_spent\n",
       "0      1019161     FRA    NaN      I     A         N          NaN\n",
       "1      1046160     TUR      F      I     B         Y   121.413014\n",
       "2      1038783     USA      M      I     B         N          NaN\n",
       "3      1033108     USA      O      A     A         N          NaN\n",
       "4      1032850     BRA      M      A     B         N          NaN\n",
       "...        ...     ...    ...    ...   ...       ...          ...\n",
       "48938  1017464     TUR      F      I     B         N          NaN\n",
       "48939  1014355     CAN    NaN      I     A         N          NaN\n",
       "48940  1030558     CAN      F      I     B         N          NaN\n",
       "48941  1009340     BRA      F      I     A         N          NaN\n",
       "48942  1037467     USA      M      I     B         N          NaN\n",
       "\n",
       "[48943 rows x 7 columns]"
      ]
     },
     "execution_count": 4,
     "metadata": {},
     "output_type": "execute_result"
    }
   ],
   "source": [
    "df"
   ]
  },
  {
   "cell_type": "markdown",
   "id": "3fd028e3",
   "metadata": {},
   "source": [
    "# GlowBox banner A/B test\n"
   ]
  },
  {
   "cell_type": "markdown",
   "id": "f8c91026",
   "metadata": {},
   "source": [
    "GlowBox, an e-commerce website, wants to know if adding a banner with key products at the top of the site will increase sales and/or revenue. The test is only run on mobile devices.<sb>\n",
    "    \n",
    "    \n",
    "    -A user who visits the homepage is randomly assigned to a group (A: No banner, B: Banner)\n",
    "    -Banner is loaded when user is assigned to group A (and not when in group B)\n",
    "    -When a user in the dataset makes one or more purchases during the runtime of the experiment it's considerd as a conversion.\n",
    "    \n",
    "### Questions to be answered:\n",
    "    1. Does Highlighting key products at the top of the mobile site increase sales\n",
    "    2. Does highlighting key products at the top of the mobile site increase revenue"
   ]
  },
  {
   "cell_type": "markdown",
   "id": "3a0bc404",
   "metadata": {},
   "source": [
    "## 1. Does Highlighting key products at the top of the mobile site increase sales\n",
    "H₀: Adding banner with key products does not chance the conversion rate\n",
    "<br>\n",
    "Hₐ: Adding banner with key products does chance the conversion rate\n",
    "<br>\n",
    "<br>\n",
    "H₀: P_exp - P_con <= 0\n",
    "<br>\n",
    "Hₐ: P_exp - P_con > 0\n",
    "<br>\n",
    "α = 0.05"
   ]
  },
  {
   "cell_type": "code",
   "execution_count": 5,
   "id": "0c1e6e1c",
   "metadata": {},
   "outputs": [
    {
     "name": "stdout",
     "output_type": "stream",
     "text": [
      "n: 48943\n"
     ]
    }
   ],
   "source": [
    "n = len(df['group'])\n",
    "print('n:', n)"
   ]
  },
  {
   "cell_type": "markdown",
   "id": "f3a78909",
   "metadata": {},
   "source": [
    "Proportion users which did convert in the control group :"
   ]
  },
  {
   "cell_type": "code",
   "execution_count": 6,
   "id": "f6dd8007",
   "metadata": {},
   "outputs": [
    {
     "data": {
      "text/plain": [
       "0.03923099042845993"
      ]
     },
     "execution_count": 6,
     "metadata": {},
     "output_type": "execute_result"
    }
   ],
   "source": [
    "prop_control = len(df[(df['converted']==\"Y\") & (df['group']==\"A\")]) / len(df[df[\"group\"]==\"A\"])\n",
    "prop_control"
   ]
  },
  {
   "cell_type": "markdown",
   "id": "60f5bb88",
   "metadata": {},
   "source": [
    "Proportion of users which did convert in the experiment group:"
   ]
  },
  {
   "cell_type": "code",
   "execution_count": 7,
   "id": "723a089d",
   "metadata": {
    "scrolled": true
   },
   "outputs": [
    {
     "data": {
      "text/plain": [
       "0.04630081300813008"
      ]
     },
     "execution_count": 7,
     "metadata": {},
     "output_type": "execute_result"
    }
   ],
   "source": [
    "prop_experiment = len(df[(df['converted']==\"Y\") & (df['group']==\"B\")]) / len(df[df[\"group\"]==\"B\"])\n",
    "prop_experiment"
   ]
  },
  {
   "cell_type": "markdown",
   "id": "be331e36",
   "metadata": {},
   "source": [
    "### Confidence intervals"
   ]
  },
  {
   "cell_type": "code",
   "execution_count": 8,
   "id": "4e8ace0c",
   "metadata": {},
   "outputs": [
    {
     "data": {
      "text/plain": [
       "0.0008775640750452727"
      ]
     },
     "execution_count": 8,
     "metadata": {},
     "output_type": "execute_result"
    }
   ],
   "source": [
    "#control\n",
    "σ_con = np.sqrt(prop_control * (1-prop_control) / n)\n",
    "σ_con"
   ]
  },
  {
   "cell_type": "code",
   "execution_count": 9,
   "id": "1e231fac",
   "metadata": {},
   "outputs": [
    {
     "name": "stdout",
     "output_type": "stream",
     "text": [
      "Confidence interval:\n",
      "0.037510964841371196 - 0.04095101601554866\n"
     ]
    }
   ],
   "source": [
    "z = 1.96\n",
    "m = z * σ_con\n",
    "print(\"Confidence interval:\")\n",
    "print(prop_control - m, '-', prop_control + m)\n"
   ]
  },
  {
   "cell_type": "code",
   "execution_count": 10,
   "id": "976f083d",
   "metadata": {},
   "outputs": [],
   "source": [
    "#experiment"
   ]
  },
  {
   "cell_type": "code",
   "execution_count": 11,
   "id": "ed7409f0",
   "metadata": {},
   "outputs": [
    {
     "name": "stdout",
     "output_type": "stream",
     "text": [
      "Confidence interval:\n",
      "0.04443910831771945 - 0.04816251769854071\n"
     ]
    }
   ],
   "source": [
    "σ_exp = np.sqrt(prop_experiment * (1-prop_experiment) / n)\n",
    "z = 1.96\n",
    "m = z * σ_exp\n",
    "print(\"Confidence interval:\")\n",
    "print(prop_experiment - m, '-', prop_experiment + m)"
   ]
  },
  {
   "cell_type": "markdown",
   "id": "db7471d0",
   "metadata": {},
   "source": [
    "### Hypothesis test wether there is a difference in conversion"
   ]
  },
  {
   "cell_type": "markdown",
   "id": "ccb53f85",
   "metadata": {},
   "source": [
    "H₀: P_exp - P_con <= 0\n",
    "<br>\n",
    "Hₐ: P_exp - P_con > 0\n",
    "<br>\n",
    "α = 0.05"
   ]
  },
  {
   "cell_type": "code",
   "execution_count": 12,
   "id": "4ad31b62",
   "metadata": {},
   "outputs": [
    {
     "data": {
      "text/plain": [
       "5.711523123213494"
      ]
     },
     "execution_count": 12,
     "metadata": {},
     "output_type": "execute_result"
    }
   ],
   "source": [
    "exp_size= df[df['group'] == \"B\"]['group'].count()\n",
    "con_size= df[df['group'] == \"A\"]['group'].count() \n",
    "z = (prop_experiment - prop_control) / np.sqrt(prop_control*(1-prop_control)/exp_size)\n",
    "z"
   ]
  },
  {
   "cell_type": "code",
   "execution_count": 72,
   "id": "ceb997b4",
   "metadata": {},
   "outputs": [
    {
     "data": {
      "image/png": "[encoded data removed]",
      "text/plain": [
       "<Figure size 432x288 with 1 Axes>"
      ]
     },
     "metadata": {
      "needs_background": "light"
     },
     "output_type": "display_data"
    }
   ],
   "source": [
    "color = \"#985277\"\n",
    "exp_plot = np.random.normal(prop_experiment-prop_control, σ_exp, 10000)\n",
    "plt.hist(exp_plot, color=\"white\")\n",
    "plt.axvline(0, color=\"red\", label=\"Null Hypothesis Difference\")\n",
    "plt.axvline(prop_experiment-prop_control, color=\"green\", label=\"Sample Mean Difference\")\n",
    "plt.legend()\n",
    "plt.yticks([])\n",
    "plt.xlabel(\"Difference in mean\")\n",
    "plt.title(\"Difference Expected Distribution\", color=\"white\")\n",
    "plt.savefig('plottest', dpi=200, transparent=True)\n"
   ]
  },
  {
   "cell_type": "markdown",
   "id": "25526fe0",
   "metadata": {},
   "source": [
    "#### Confidence interval for the dirfference between the conversion rates"
   ]
  },
  {
   "cell_type": "code",
   "execution_count": 14,
   "id": "f175babe",
   "metadata": {},
   "outputs": [
    {
     "name": "stdout",
     "output_type": "stream",
     "text": [
      "confidence interval:\n",
      "0.0034880923021707914 - 0.01065155285716952\n"
     ]
    }
   ],
   "source": [
    "z=1.96\n",
    "diffrence = prop_experiment-prop_control\n",
    "both_std = σ_exp + σ_con\n",
    "m= z* both_std\n",
    "print('confidence interval:')\n",
    "print( diffrence-m, '-', diffrence+m)\n"
   ]
  },
  {
   "cell_type": "code",
   "execution_count": null,
   "id": "1fcf3ed5",
   "metadata": {},
   "outputs": [],
   "source": []
  },
  {
   "cell_type": "markdown",
   "id": "37769b53",
   "metadata": {},
   "source": [
    "#### Difference in mean per country"
   ]
  },
  {
   "cell_type": "code",
   "execution_count": 15,
   "id": "362d2f8f",
   "metadata": {},
   "outputs": [
    {
     "data": {
      "text/plain": [
       "country  group\n",
       "AUS      A        0.021382\n",
       "         B        0.030357\n",
       "BRA      A        0.037253\n",
       "         B        0.040614\n",
       "CAN      A        0.046936\n",
       "         B        0.064757\n",
       "DEU      A        0.032004\n",
       "         B        0.044148\n",
       "ESP      A        0.029087\n",
       "         B        0.036145\n",
       "FRA      A        0.031250\n",
       "         B        0.041828\n",
       "GBR      A        0.028866\n",
       "         B        0.036814\n",
       "MEX      A        0.029485\n",
       "         B        0.044475\n",
       "TUR      A        0.040022\n",
       "         B        0.035582\n",
       "USA      A        0.051170\n",
       "         B        0.057484\n",
       "Name: convertion, dtype: float64"
      ]
     },
     "execution_count": 15,
     "metadata": {},
     "output_type": "execute_result"
    }
   ],
   "source": [
    "df2 = df.copy()\n",
    "df2['convertion'] = [ 1 if x == \"Y\" else 0 for x in df2['converted']]\n",
    "country_proportions =df2.groupby(['country','group'])['convertion'].mean()\n",
    "country_proportions"
   ]
  },
  {
   "cell_type": "code",
   "execution_count": 16,
   "id": "e108a93b",
   "metadata": {},
   "outputs": [],
   "source": [
    "#Confidence level per country\n",
    "#Z-value to dict\n",
    "country_zs ={}\n",
    "for i in range(int(len(country_proportions.index)/2)):\n",
    "    country = country_proportions.index[i*2][0]\n",
    "    con_pro = country_proportions.iloc[i*2]\n",
    "    exp_pro = country_proportions.iloc[i*2+1]\n",
    "    con_size = df2.query(f'country == \"{country}\" and group ==\"B\"').shape[0]\n",
    "    z_val = (exp_pro - con_pro) / np.sqrt(con_pro*(1-con_pro)/ con_size)\n",
    "    country_zs[country] = z_val"
   ]
  },
  {
   "cell_type": "code",
   "execution_count": 64,
   "id": "cdb97aec",
   "metadata": {},
   "outputs": [
    {
     "name": "stdout",
     "output_type": "stream",
     "text": [
      "Confidence level per country\n",
      "AUS: 92.90%\n",
      "BRA: 88.64%\n",
      "CAN: 99.15%\n",
      "DEU: 99.88%\n",
      "ESP: 90.75%\n",
      "FRA: 99.17%\n",
      "GBR: 96.67%\n",
      "MEX: 100.00%\n",
      "TUR: 0.00%\n",
      "USA: 99.33%\n"
     ]
    }
   ],
   "source": [
    "#z to p-value\n",
    "print(\"Confidence level per country\")\n",
    "for k in country_zs.keys():\n",
    "    if country_zs[k] > 0:    \n",
    "        p_value = st.norm.cdf(country_zs[k])\n",
    "        print(f\"{k}: {p_value*100:.2f}%\")\n",
    "    else: print(f\"{k}: 0.00%\")"
   ]
  },
  {
   "cell_type": "code",
   "execution_count": null,
   "id": "8eb57031",
   "metadata": {},
   "outputs": [],
   "source": []
  },
  {
   "cell_type": "markdown",
   "id": "61879d63",
   "metadata": {},
   "source": [
    "### Bootstrap"
   ]
  },
  {
   "cell_type": "code",
   "execution_count": 18,
   "id": "676480ea",
   "metadata": {},
   "outputs": [],
   "source": [
    "diffs = []\n",
    "for _ in range(10000):\n",
    "    b_samp = df.sample(df.shape[0], replace = True)\n",
    "    con_df = b_samp.query('group ==\"A\"')\n",
    "    exp_df = b_samp.query('group == \"B\"')\n",
    "    con_cr = len(con_df.query('converted == \"Y\"')) / len(con_df)\n",
    "    exp_cr = len(exp_df.query('converted == \"Y\"')) / len(exp_df)\n",
    "    diffs.append(exp_cr-con_cr)"
   ]
  },
  {
   "cell_type": "code",
   "execution_count": 19,
   "id": "f0af2976",
   "metadata": {},
   "outputs": [
    {
     "data": {
      "text/plain": [
       "(array([   9.,   66.,  439., 1382., 2797., 2874., 1759.,  571.,   93.,\n",
       "          10.]),\n",
       " array([-0.00030993,  0.00113143,  0.00257279,  0.00401414,  0.0054555 ,\n",
       "         0.00689686,  0.00833822,  0.00977958,  0.01122094,  0.0126623 ,\n",
       "         0.01410366]),\n",
       " <BarContainer object of 10 artists>)"
      ]
     },
     "execution_count": 19,
     "metadata": {},
     "output_type": "execute_result"
    },
    {
     "data": {
      "image/png": "[encoded data removed]",
      "text/plain": [
       "<Figure size 432x288 with 1 Axes>"
      ]
     },
     "metadata": {
      "needs_background": "light"
     },
     "output_type": "display_data"
    }
   ],
   "source": [
    "plt.hist(diffs)"
   ]
  },
  {
   "cell_type": "code",
   "execution_count": 20,
   "id": "1f591ecc",
   "metadata": {},
   "outputs": [],
   "source": [
    "diffs = np.array(diffs)\n",
    "null_vals = np.random.normal(0, diffs.std(), diffs.size)"
   ]
  },
  {
   "cell_type": "code",
   "execution_count": 21,
   "id": "12915126",
   "metadata": {},
   "outputs": [
    {
     "data": {
      "image/png": "[encoded data removed]",
      "text/plain": [
       "<Figure size 432x288 with 1 Axes>"
      ]
     },
     "metadata": {
      "needs_background": "light"
     },
     "output_type": "display_data"
    }
   ],
   "source": [
    "plt.hist(null_vals);"
   ]
  },
  {
   "cell_type": "code",
   "execution_count": 60,
   "id": "54ad244f",
   "metadata": {},
   "outputs": [
    {
     "ename": "ValueError",
     "evalue": "operands could not be broadcast together with shapes (10000,) (1000,) ",
     "output_type": "error",
     "traceback": [
      "\u001b[1;31m---------------------------------------------------------------------------\u001b[0m",
      "\u001b[1;31mValueError\u001b[0m                                Traceback (most recent call last)",
      "Input \u001b[1;32mIn [60]\u001b[0m, in \u001b[0;36m<cell line: 2>\u001b[1;34m()\u001b[0m\n\u001b[0;32m      1\u001b[0m \u001b[38;5;66;03m#p-value\u001b[39;00m\n\u001b[1;32m----> 2\u001b[0m (\u001b[43mnull_vals\u001b[49m\u001b[43m \u001b[49m\u001b[38;5;241;43m>\u001b[39;49m\u001b[43m \u001b[49m\u001b[43mdiffs\u001b[49m)\u001b[38;5;241m.\u001b[39mmean()\n",
      "\u001b[1;31mValueError\u001b[0m: operands could not be broadcast together with shapes (10000,) (1000,) "
     ]
    }
   ],
   "source": [
    "#p-value\n",
    "(null_vals > diffs).mean()"
   ]
  },
  {
   "cell_type": "markdown",
   "id": "fe2e1d4c",
   "metadata": {},
   "source": [
    "Since the p-value is smaller then alpha we are condifent that experiment did signifecantly increase the ammount of sales"
   ]
  },
  {
   "cell_type": "markdown",
   "id": "c1552552",
   "metadata": {},
   "source": [
    "# 2. Does Highlighting key products at the top of the mobile site increase revenue"
   ]
  },
  {
   "cell_type": "markdown",
   "id": "f422373a",
   "metadata": {},
   "source": [
    "H₀: Adding banner with key products does not increase mean revenue per customer<br>\n",
    "Hₐ: Adding banner with key products does increase mean revenue per customer<br>\n",
    "\n",
    "H₀: u_exp - u_con <= 0\n",
    "<br>\n",
    "Hₐ: u_exp - u_con > 0\n",
    "<br>\n",
    "α = 0.05"
   ]
  },
  {
   "cell_type": "code",
   "execution_count": 23,
   "id": "a71a1b65",
   "metadata": {},
   "outputs": [
    {
     "name": "stdout",
     "output_type": "stream",
     "text": [
      "Control group spent mean, total, and count\n",
      "3.374518467928841\n",
      "82145.90306479178\n",
      "955\n",
      "Experiment group spent mean, total, and count\n",
      "3.3908669458857834\n",
      "83415.32686879027\n",
      "1139\n"
     ]
    }
   ],
   "source": [
    "#mean spent in control\n",
    "print('Control group spent mean, total, and count')\n",
    "spent_mean_con = df[df['group']=='A']['total_spent'].sum() / df[df['group']=='A']['total_spent'].shape[0]\n",
    "spent_total_con = df[df['group']=='A']['total_spent'].sum()\n",
    "spent_count_con = df[df['group']=='A']['total_spent'].count()\n",
    "print(spent_mean_con)\n",
    "print(spent_total_con)\n",
    "print( spent_count_con)\n",
    "\n",
    "#mean spent in exp\n",
    "print('Experiment group spent mean, total, and count')\n",
    "spent_mean_exp = df[df['group']=='B']['total_spent'].sum() / df[df['group']=='B']['total_spent'].shape[0]\n",
    "spent_total_exp = df[df['group']=='B']['total_spent'].sum()\n",
    "spent_count_exp = df[df['group']=='B']['total_spent'].count()\n",
    "print(spent_mean_exp)\n",
    "print(spent_total_exp)\n",
    "print(spent_count_exp)"
   ]
  },
  {
   "cell_type": "code",
   "execution_count": 24,
   "id": "feed4732",
   "metadata": {},
   "outputs": [],
   "source": [
    "#FIll missing value with 0 in spent column\n",
    "rev_df = df.copy()\n",
    "rev_df['total_spent'] = rev_df['total_spent'].fillna(0)\n"
   ]
  },
  {
   "cell_type": "code",
   "execution_count": 25,
   "id": "dee53c50",
   "metadata": {},
   "outputs": [],
   "source": [
    "diffs = []\n",
    "for _ in range(1000):\n",
    "    b_sample = rev_df.sample(rev_df.shape[0], replace=True)\n",
    "    con_df = b_sample.query('group == \"A\"')\n",
    "    exp_df = b_sample.query('group == \"B\"')\n",
    "    con_spent_mean = con_df['total_spent'].mean()\n",
    "    exp_spent_mean = exp_df['total_spent'].mean()\n",
    "    diffs.append(exp_spent_mean - con_spent_mean)    \n",
    "    "
   ]
  },
  {
   "cell_type": "code",
   "execution_count": 26,
   "id": "142d7f98",
   "metadata": {},
   "outputs": [
    {
     "data": {
      "text/plain": [
       "(array([ 18.,  35., 118., 216., 245., 204., 111.,  39.,  10.,   4.]),\n",
       " array([-0.64465641, -0.49965944, -0.35466247, -0.20966551, -0.06466854,\n",
       "         0.08032843,  0.2253254 ,  0.37032236,  0.51531933,  0.6603163 ,\n",
       "         0.80531326]),\n",
       " <BarContainer object of 10 artists>)"
      ]
     },
     "execution_count": 26,
     "metadata": {},
     "output_type": "execute_result"
    },
    {
     "data": {
      "image/png": "[encoded data removed]",
      "text/plain": [
       "<Figure size 432x288 with 1 Axes>"
      ]
     },
     "metadata": {
      "needs_background": "light"
     },
     "output_type": "display_data"
    }
   ],
   "source": [
    "plt.hist(diffs)"
   ]
  },
  {
   "cell_type": "code",
   "execution_count": 27,
   "id": "4db9d624",
   "metadata": {},
   "outputs": [],
   "source": [
    "diffs = np.array(diffs)\n",
    "null_valls = np.random.normal(0, diffs.std(), diffs.size)"
   ]
  },
  {
   "cell_type": "code",
   "execution_count": 61,
   "id": "0c7d5969",
   "metadata": {},
   "outputs": [
    {
     "data": {
      "text/plain": [
       "0.502"
      ]
     },
     "execution_count": 61,
     "metadata": {},
     "output_type": "execute_result"
    }
   ],
   "source": [
    "#p-value\n",
    "(null_valls >= diffs).mean()"
   ]
  },
  {
   "cell_type": "markdown",
   "id": "7e4f4191",
   "metadata": {},
   "source": [
    "We fail te reject the Null hypothesis since there is not significantly more spent on average per customer"
   ]
  },
  {
   "cell_type": "markdown",
   "id": "f23500d3",
   "metadata": {},
   "source": [
    "## 2. Z-statistic"
   ]
  },
  {
   "cell_type": "markdown",
   "id": "ec26b500",
   "metadata": {},
   "source": [
    "H₀: Adding banner with key products does not increase mean revenue per customer<br>\n",
    "Hₐ: Adding banner with key products does increase mean revenue per customer<br>\n",
    "\n",
    "H₀: u_exp - u_con <= 0\n",
    "<br>\n",
    "Hₐ: u_exp - u_con > 0\n",
    "<br>\n",
    "α = 0.05"
   ]
  },
  {
   "cell_type": "code",
   "execution_count": 66,
   "id": "9f87e30c",
   "metadata": {},
   "outputs": [
    {
     "name": "stdout",
     "output_type": "stream",
     "text": [
      "0.06972316589752209\n"
     ]
    }
   ],
   "source": [
    "con_mean = rev_df.query('group == \"A\"')['total_spent'].mean()\n",
    "exp_mean = rev_df.query('group == \"B\"')['total_spent'].mean()\n",
    "con_std = rev_df.query('group == \"A\"')['total_spent'].std()\n",
    "exp_std = rev_df.query('group == \"A\"')['total_spent'].std()\n",
    "con_size = rev_df.query('group == \"A\"')['total_spent'].shape[0]\n",
    "exp_size = rev_df.query('group == \"B\"')['total_spent'].shape[0]\n",
    "t = (exp_mean-con_mean) / np.sqrt((con_std**2/con_size) + (exp_std**2/exp_size)) \n",
    "print(t)\n"
   ]
  },
  {
   "cell_type": "code",
   "execution_count": 67,
   "id": "5cdf1457",
   "metadata": {},
   "outputs": [
    {
     "data": {
      "text/plain": [
       "0.14086823849734045"
      ]
     },
     "execution_count": 67,
     "metadata": {},
     "output_type": "execute_result"
    }
   ],
   "source": [
    "sample_std = rev_df['total_spent'].std() \n",
    "sample_size = rev_df['total_spent'].shape[0]\n",
    "z= (exp_mean-con_mean)/ (sample_std/ np.sqrt(sample_size))\n",
    "z"
   ]
  },
  {
   "cell_type": "markdown",
   "id": "4d9e5acd",
   "metadata": {},
   "source": [
    "Fail to reject the null hypothesis since the z of 0.141 comes no were close to the z of 1.96 which is needed to reject the null hypothesis."
   ]
  },
  {
   "cell_type": "code",
   "execution_count": 68,
   "id": "0a865ee8",
   "metadata": {},
   "outputs": [
    {
     "name": "stdout",
     "output_type": "stream",
     "text": [
      "3.3745184679288442 3.390866945885785\n"
     ]
    }
   ],
   "source": [
    "print(con_mean, exp_mean)"
   ]
  },
  {
   "cell_type": "code",
   "execution_count": 74,
   "id": "d5ef0020",
   "metadata": {},
   "outputs": [
    {
     "data": {
      "image/png": "[encoded data removed]",
      "text/plain": [
       "<Figure size 432x288 with 1 Axes>"
      ]
     },
     "metadata": {
      "needs_background": "light"
     },
     "output_type": "display_data"
    }
   ],
   "source": [
    "color = \"#985277\"\n",
    "exp_plot = np.random.normal(exp_mean-con_mean, con_std, 10000)\n",
    "plt.hist(exp_plot, color=\"white\")\n",
    "plt.axvline(1, color=\"red\", label=\"Null Hypothesis Difference\")\n",
    "plt.axvline(prop_experiment-prop_control, color=\"green\", label=\"Sample Mean Difference\")\n",
    "plt.legend()\n",
    "plt.yticks([])\n",
    "plt.xlabel(\"Difference in mean\")\n",
    "plt.title(\"Difference Expected Distribution\", color=\"White\")\n",
    "plt.savefig('plottest2', dpi=200, transparent=True)"
   ]
  },
  {
   "cell_type": "markdown",
   "id": "b688bc74",
   "metadata": {},
   "source": [
    "## Confidence interval average ammount spent per group"
   ]
  },
  {
   "cell_type": "markdown",
   "id": "c06d5ef1",
   "metadata": {},
   "source": [
    " a = 0.05\n",
    " "
   ]
  },
  {
   "cell_type": "markdown",
   "id": "2a051836",
   "metadata": {},
   "source": [
    "### Control GROUP"
   ]
  },
  {
   "cell_type": "code",
   "execution_count": 32,
   "id": "06f28c1a",
   "metadata": {},
   "outputs": [
    {
     "name": "stdout",
     "output_type": "stream",
     "text": [
      "Mean Control:  3.3745184679288442\n",
      "Standard Deviation:  25.936390557227377\n",
      "Sample group size:  24343\n",
      "SE:  0.1662350076525923\n",
      "Z for 95% confidence interval 1.96\n",
      "margin of error:  0.3258206149990809\n",
      "3.0486978529297635  -  3.700339082927925\n"
     ]
    }
   ],
   "source": [
    "con_mean = rev_df.query('group == \"A\"')['total_spent'].mean()\n",
    "print('Mean Control: ',con_mean)\n",
    "con_std = rev_df.query('group == \"A\"')['total_spent'].std()\n",
    "print(\"Standard Deviation: \", con_std)\n",
    "sample_size = rev_df.query('group == \"A\"')['total_spent'].count()\n",
    "print('Sample group size: ', sample_size)\n",
    "con_standard_error = con_std / np.sqrt(sample_size)\n",
    "print(\"SE: \", con_standard_error)\n",
    "z= 1.96\n",
    "print('Z for 95% confidence interval', z)\n",
    "m = z*con_standard_error\n",
    "print(\"margin of error: \",m)\n",
    "print(con_mean - m, \" - \", con_mean+m)"
   ]
  },
  {
   "cell_type": "markdown",
   "id": "bc471acd",
   "metadata": {},
   "source": [
    "### Treatment Group"
   ]
  },
  {
   "cell_type": "code",
   "execution_count": 33,
   "id": "a3f058b4",
   "metadata": {},
   "outputs": [
    {
     "name": "stdout",
     "output_type": "stream",
     "text": [
      "Mean Control:  3.390866945885785\n",
      "Standard Deviation:  25.41410959922202\n",
      "Sample group size:  24600\n",
      "SE:  0.1620344446370341\n",
      "Z for 95% confidence interval 1.96\n",
      "margin of error:  0.3175875114885868\n",
      "3.0732794343971985  -  3.708454457374372\n"
     ]
    }
   ],
   "source": [
    "exp_mean = rev_df.query('group == \"B\"')['total_spent'].mean()\n",
    "print('Mean Control: ',exp_mean)\n",
    "exp_std = rev_df.query('group == \"B\"')['total_spent'].std()\n",
    "print(\"Standard Deviation: \", exp_std)\n",
    "sample_size = rev_df.query('group == \"B\"')['total_spent'].count()\n",
    "print('Sample group size: ', sample_size)\n",
    "exp_standard_error = exp_std / np.sqrt(sample_size)\n",
    "print(\"SE: \", exp_standard_error)\n",
    "z= 1.96\n",
    "print('Z for 95% confidence interval', z)\n",
    "m = z*exp_standard_error\n",
    "print(\"margin of error: \",m)\n",
    "print(exp_mean - m, \" - \", exp_mean+m)"
   ]
  },
  {
   "cell_type": "code",
   "execution_count": null,
   "id": "3c64a256",
   "metadata": {},
   "outputs": [],
   "source": []
  },
  {
   "cell_type": "code",
   "execution_count": null,
   "id": "2ee76216",
   "metadata": {},
   "outputs": [],
   "source": []
  },
  {
   "cell_type": "markdown",
   "id": "1135ed86",
   "metadata": {},
   "source": [
    "# Revenue per country\n",
    "## Is there a significant change in reveneu per country?"
   ]
  },
  {
   "cell_type": "markdown",
   "id": "8f8b0fe1",
   "metadata": {},
   "source": [
    "H₀: u_exp - u_con = 0 <br>\n",
    "Hₐ: u_exp - u_con <> 0 <br>\n",
    "α = 0.05"
   ]
  },
  {
   "cell_type": "code",
   "execution_count": 34,
   "id": "2a9b3022",
   "metadata": {},
   "outputs": [
    {
     "data": {
      "text/html": [
       "<div>\n",
       "<style scoped>\n",
       "    .dataframe tbody tr th:only-of-type {\n",
       "        vertical-align: middle;\n",
       "    }\n",
       "\n",
       "    .dataframe tbody tr th {\n",
       "        vertical-align: top;\n",
       "    }\n",
       "\n",
       "    .dataframe thead th {\n",
       "        text-align: right;\n",
       "    }\n",
       "</style>\n",
       "<table border=\"1\" class=\"dataframe\">\n",
       "  <thead>\n",
       "    <tr style=\"text-align: right;\">\n",
       "      <th></th>\n",
       "      <th>uid</th>\n",
       "      <th>country</th>\n",
       "      <th>gender</th>\n",
       "      <th>device</th>\n",
       "      <th>group</th>\n",
       "      <th>converted</th>\n",
       "      <th>total_spent</th>\n",
       "    </tr>\n",
       "  </thead>\n",
       "  <tbody>\n",
       "    <tr>\n",
       "      <th>0</th>\n",
       "      <td>1019161</td>\n",
       "      <td>FRA</td>\n",
       "      <td>NaN</td>\n",
       "      <td>I</td>\n",
       "      <td>A</td>\n",
       "      <td>N</td>\n",
       "      <td>0.000000</td>\n",
       "    </tr>\n",
       "    <tr>\n",
       "      <th>1</th>\n",
       "      <td>1046160</td>\n",
       "      <td>TUR</td>\n",
       "      <td>F</td>\n",
       "      <td>I</td>\n",
       "      <td>B</td>\n",
       "      <td>Y</td>\n",
       "      <td>121.413014</td>\n",
       "    </tr>\n",
       "    <tr>\n",
       "      <th>2</th>\n",
       "      <td>1038783</td>\n",
       "      <td>USA</td>\n",
       "      <td>M</td>\n",
       "      <td>I</td>\n",
       "      <td>B</td>\n",
       "      <td>N</td>\n",
       "      <td>0.000000</td>\n",
       "    </tr>\n",
       "    <tr>\n",
       "      <th>3</th>\n",
       "      <td>1033108</td>\n",
       "      <td>USA</td>\n",
       "      <td>O</td>\n",
       "      <td>A</td>\n",
       "      <td>A</td>\n",
       "      <td>N</td>\n",
       "      <td>0.000000</td>\n",
       "    </tr>\n",
       "    <tr>\n",
       "      <th>4</th>\n",
       "      <td>1032850</td>\n",
       "      <td>BRA</td>\n",
       "      <td>M</td>\n",
       "      <td>A</td>\n",
       "      <td>B</td>\n",
       "      <td>N</td>\n",
       "      <td>0.000000</td>\n",
       "    </tr>\n",
       "    <tr>\n",
       "      <th>...</th>\n",
       "      <td>...</td>\n",
       "      <td>...</td>\n",
       "      <td>...</td>\n",
       "      <td>...</td>\n",
       "      <td>...</td>\n",
       "      <td>...</td>\n",
       "      <td>...</td>\n",
       "    </tr>\n",
       "    <tr>\n",
       "      <th>48938</th>\n",
       "      <td>1017464</td>\n",
       "      <td>TUR</td>\n",
       "      <td>F</td>\n",
       "      <td>I</td>\n",
       "      <td>B</td>\n",
       "      <td>N</td>\n",
       "      <td>0.000000</td>\n",
       "    </tr>\n",
       "    <tr>\n",
       "      <th>48939</th>\n",
       "      <td>1014355</td>\n",
       "      <td>CAN</td>\n",
       "      <td>NaN</td>\n",
       "      <td>I</td>\n",
       "      <td>A</td>\n",
       "      <td>N</td>\n",
       "      <td>0.000000</td>\n",
       "    </tr>\n",
       "    <tr>\n",
       "      <th>48940</th>\n",
       "      <td>1030558</td>\n",
       "      <td>CAN</td>\n",
       "      <td>F</td>\n",
       "      <td>I</td>\n",
       "      <td>B</td>\n",
       "      <td>N</td>\n",
       "      <td>0.000000</td>\n",
       "    </tr>\n",
       "    <tr>\n",
       "      <th>48941</th>\n",
       "      <td>1009340</td>\n",
       "      <td>BRA</td>\n",
       "      <td>F</td>\n",
       "      <td>I</td>\n",
       "      <td>A</td>\n",
       "      <td>N</td>\n",
       "      <td>0.000000</td>\n",
       "    </tr>\n",
       "    <tr>\n",
       "      <th>48942</th>\n",
       "      <td>1037467</td>\n",
       "      <td>USA</td>\n",
       "      <td>M</td>\n",
       "      <td>I</td>\n",
       "      <td>B</td>\n",
       "      <td>N</td>\n",
       "      <td>0.000000</td>\n",
       "    </tr>\n",
       "  </tbody>\n",
       "</table>\n",
       "<p>48943 rows × 7 columns</p>\n",
       "</div>"
      ],
      "text/plain": [
       "           uid country gender device group converted  total_spent\n",
       "0      1019161     FRA    NaN      I     A         N     0.000000\n",
       "1      1046160     TUR      F      I     B         Y   121.413014\n",
       "2      1038783     USA      M      I     B         N     0.000000\n",
       "3      1033108     USA      O      A     A         N     0.000000\n",
       "4      1032850     BRA      M      A     B         N     0.000000\n",
       "...        ...     ...    ...    ...   ...       ...          ...\n",
       "48938  1017464     TUR      F      I     B         N     0.000000\n",
       "48939  1014355     CAN    NaN      I     A         N     0.000000\n",
       "48940  1030558     CAN      F      I     B         N     0.000000\n",
       "48941  1009340     BRA      F      I     A         N     0.000000\n",
       "48942  1037467     USA      M      I     B         N     0.000000\n",
       "\n",
       "[48943 rows x 7 columns]"
      ]
     },
     "execution_count": 34,
     "metadata": {},
     "output_type": "execute_result"
    }
   ],
   "source": [
    "rev_df"
   ]
  },
  {
   "cell_type": "code",
   "execution_count": 35,
   "id": "285e1224",
   "metadata": {},
   "outputs": [],
   "source": [
    "# dictonary {country: {group A: [mean:x, std:x, size:x], group B: [mean:x, std:x, size:x]}}\n",
    "c_dict = {}\n",
    "for c in rev_df['country'].unique():\n",
    "    con = rev_df.query(f'country == \"{c}\" and group == \"A\"')\n",
    "    exp = rev_df.query(f'country == \"{c}\" and group == \"B\"')\n",
    "    con_mean = con['total_spent'].mean()\n",
    "    exp_mean = exp['total_spent'].mean()\n",
    "    con_std = con['total_spent'].std()\n",
    "    exp_std = exp['total_spent'].std()\n",
    "    con_size = con.shape[0]\n",
    "    exp_size = exp.shape[0]\n",
    "    to_add = {\"A\":[con_mean, con_std, con_size] , \"B\": [exp_mean, exp_std, exp_size]}\n",
    "    c_dict[c] = to_add"
   ]
  },
  {
   "cell_type": "code",
   "execution_count": 36,
   "id": "dd1a2be7",
   "metadata": {},
   "outputs": [],
   "source": [
    "c_z_dict = {}\n",
    "for c in rev_df['country'].unique()[:-1]:\n",
    "    con = rev_df.query(f'country == \"{c}\" and group == \"A\"')\n",
    "    exp = rev_df.query(f'country == \"{c}\" and group == \"B\"')\n",
    "    con_mean = con['total_spent'].mean()\n",
    "    exp_mean = exp['total_spent'].mean()\n",
    "    diff_mean =  exp_mean - con_mean\n",
    "    \n",
    "    con_std = con['total_spent'].std()\n",
    "    exp_std = exp['total_spent'].std()\n",
    "\n",
    "    con_size = con.shape[0]\n",
    "    exp_size = exp.shape[0]\n",
    "                         \n",
    "    denominator = np.sqrt(con_std**2/con_size + exp_std**2/exp_size)\n",
    "    z = diff_mean /denominator\n",
    "    c_z_dict[c]= z\n",
    "    "
   ]
  },
  {
   "cell_type": "code",
   "execution_count": 63,
   "id": "0a59b43f",
   "metadata": {},
   "outputs": [
    {
     "data": {
      "text/plain": [
       "{'FRA': -0.721786915265957,\n",
       " 'TUR': -1.644674516058606,\n",
       " 'USA': -0.5626096803441875,\n",
       " 'BRA': -0.26401221022622706,\n",
       " 'MEX': 0.8482683070172029,\n",
       " 'DEU': -0.6772396938847064,\n",
       " 'AUS': 0.5195974862245274,\n",
       " 'ESP': 1.324078104091344,\n",
       " 'GBR': 1.7884955568158325,\n",
       " 'CAN': 0.6181678924998831}"
      ]
     },
     "execution_count": 63,
     "metadata": {},
     "output_type": "execute_result"
    }
   ],
   "source": [
    "c_z_dict"
   ]
  },
  {
   "cell_type": "code",
   "execution_count": 65,
   "id": "f53fd6d6",
   "metadata": {},
   "outputs": [
    {
     "name": "stdout",
     "output_type": "stream",
     "text": [
      "Confidence level per country\n",
      "FRA: 0.00%\n",
      "TUR: 0.00%\n",
      "USA: 0.00%\n",
      "BRA: 0.00%\n",
      "MEX: 80.19%\n",
      "DEU: 0.00%\n",
      "AUS: 69.83%\n",
      "ESP: 90.73%\n",
      "GBR: 96.32%\n",
      "CAN: 73.18%\n"
     ]
    }
   ],
   "source": [
    "#z to p-value\n",
    "print(\"Confidence level per country\")\n",
    "for k in c_z_dict.keys():\n",
    "    if c_z_dict[k] > 0:    \n",
    "        p_value = st.norm.cdf(c_z_dict[k])\n",
    "        print(f\"{k}: {p_value*100:.2f}%\")\n",
    "    else: print(f\"{k}: 0.00%\")"
   ]
  },
  {
   "cell_type": "code",
   "execution_count": null,
   "id": "e78cc9b2",
   "metadata": {},
   "outputs": [],
   "source": []
  },
  {
   "cell_type": "code",
   "execution_count": null,
   "id": "51f2521b",
   "metadata": {},
   "outputs": [],
   "source": []
  }
 ],
 "metadata": {
  "kernelspec": {
   "display_name": "Python 3 (ipykernel)",
   "language": "python",
   "name": "python3"
  },
  "language_info": {
   "codemirror_mode": {
    "name": "ipython",
    "version": 3
   },
   "file_extension": ".py",
   "mimetype": "text/x-python",
   "name": "python",
   "nbconvert_exporter": "python",
   "pygments_lexer": "ipython3",
   "version": "3.9.12"
  }
 },
 "nbformat": 4,
 "nbformat_minor": 5
}
